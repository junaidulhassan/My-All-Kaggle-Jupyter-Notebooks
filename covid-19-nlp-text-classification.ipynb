{
 "cells": [
  {
   "cell_type": "code",
   "execution_count": 1,
   "id": "2e84025e",
   "metadata": {
    "_cell_guid": "b1076dfc-b9ad-4769-8c92-a6c4dae69d19",
    "_uuid": "8f2839f25d086af736a60e9eeb907d3b93b6e0e5",
    "execution": {
     "iopub.execute_input": "2024-04-25T18:12:17.262435Z",
     "iopub.status.busy": "2024-04-25T18:12:17.261798Z",
     "iopub.status.idle": "2024-04-25T18:12:17.955341Z",
     "shell.execute_reply": "2024-04-25T18:12:17.954033Z"
    },
    "papermill": {
     "duration": 0.706626,
     "end_time": "2024-04-25T18:12:17.957318",
     "exception": false,
     "start_time": "2024-04-25T18:12:17.250692",
     "status": "completed"
    },
    "tags": []
   },
   "outputs": [
    {
     "name": "stdout",
     "output_type": "stream",
     "text": [
      "/kaggle/input/covid-19-nlp-text-classification/Corona_NLP_test.csv\n",
      "/kaggle/input/covid-19-nlp-text-classification/Corona_NLP_train.csv\n"
     ]
    }
   ],
   "source": [
    "# This Python 3 environment comes with many helpful analytics libraries installed\n",
    "# It is defined by the kaggle/python Docker image: https://github.com/kaggle/docker-python\n",
    "# For example, here's several helpful packages to load\n",
    "\n",
    "import numpy as np # linear algebra\n",
    "import pandas as pd # data processing, CSV file I/O (e.g. pd.read_csv)\n",
    "\n",
    "# Input data files are available in the read-only \"../input/\" directory\n",
    "# For example, running this (by clicking run or pressing Shift+Enter) will list all files under the input directory\n",
    "\n",
    "import os\n",
    "for dirname, _, filenames in os.walk('/kaggle/input'):\n",
    "    for filename in filenames:\n",
    "        print(os.path.join(dirname, filename))\n",
    "\n",
    "# You can write up to 20GB to the current directory (/kaggle/working/) that gets preserved as output when you create a version using \"Save & Run All\" \n",
    "# You can also write temporary files to /kaggle/temp/, but they won't be saved outside of the current session"
   ]
  },
  {
   "cell_type": "code",
   "execution_count": 2,
   "id": "4e3531f4",
   "metadata": {
    "execution": {
     "iopub.execute_input": "2024-04-25T18:12:17.976447Z",
     "iopub.status.busy": "2024-04-25T18:12:17.976090Z",
     "iopub.status.idle": "2024-04-25T18:12:19.030612Z",
     "shell.execute_reply": "2024-04-25T18:12:19.029818Z"
    },
    "papermill": {
     "duration": 1.066686,
     "end_time": "2024-04-25T18:12:19.032977",
     "exception": false,
     "start_time": "2024-04-25T18:12:17.966291",
     "status": "completed"
    },
    "tags": []
   },
   "outputs": [],
   "source": [
    "import matplotlib.pyplot as plt\n",
    "import seaborn as sns"
   ]
  },
  {
   "cell_type": "code",
   "execution_count": 3,
   "id": "47070e88",
   "metadata": {
    "execution": {
     "iopub.execute_input": "2024-04-25T18:12:19.053478Z",
     "iopub.status.busy": "2024-04-25T18:12:19.052614Z",
     "iopub.status.idle": "2024-04-25T18:12:19.379657Z",
     "shell.execute_reply": "2024-04-25T18:12:19.378532Z"
    },
    "papermill": {
     "duration": 0.340031,
     "end_time": "2024-04-25T18:12:19.382490",
     "exception": false,
     "start_time": "2024-04-25T18:12:19.042459",
     "status": "completed"
    },
    "tags": []
   },
   "outputs": [],
   "source": [
    "train_df = pd.read_csv('/kaggle/input/covid-19-nlp-text-classification/Corona_NLP_train.csv', encoding='latin-1')\n",
    "test_df = pd.read_csv('/kaggle/input/covid-19-nlp-text-classification/Corona_NLP_test.csv', encoding='latin-1')"
   ]
  },
  {
   "cell_type": "code",
   "execution_count": 4,
   "id": "853659b7",
   "metadata": {
    "execution": {
     "iopub.execute_input": "2024-04-25T18:12:19.403807Z",
     "iopub.status.busy": "2024-04-25T18:12:19.403466Z",
     "iopub.status.idle": "2024-04-25T18:12:19.422189Z",
     "shell.execute_reply": "2024-04-25T18:12:19.421099Z"
    },
    "papermill": {
     "duration": 0.031269,
     "end_time": "2024-04-25T18:12:19.424315",
     "exception": false,
     "start_time": "2024-04-25T18:12:19.393046",
     "status": "completed"
    },
    "tags": []
   },
   "outputs": [
    {
     "data": {
      "text/html": [
       "<div>\n",
       "<style scoped>\n",
       "    .dataframe tbody tr th:only-of-type {\n",
       "        vertical-align: middle;\n",
       "    }\n",
       "\n",
       "    .dataframe tbody tr th {\n",
       "        vertical-align: top;\n",
       "    }\n",
       "\n",
       "    .dataframe thead th {\n",
       "        text-align: right;\n",
       "    }\n",
       "</style>\n",
       "<table border=\"1\" class=\"dataframe\">\n",
       "  <thead>\n",
       "    <tr style=\"text-align: right;\">\n",
       "      <th></th>\n",
       "      <th>UserName</th>\n",
       "      <th>ScreenName</th>\n",
       "      <th>Location</th>\n",
       "      <th>TweetAt</th>\n",
       "      <th>OriginalTweet</th>\n",
       "      <th>Sentiment</th>\n",
       "    </tr>\n",
       "  </thead>\n",
       "  <tbody>\n",
       "    <tr>\n",
       "      <th>0</th>\n",
       "      <td>3799</td>\n",
       "      <td>48751</td>\n",
       "      <td>London</td>\n",
       "      <td>16-03-2020</td>\n",
       "      <td>@MeNyrbie @Phil_Gahan @Chrisitv https://t.co/i...</td>\n",
       "      <td>Neutral</td>\n",
       "    </tr>\n",
       "    <tr>\n",
       "      <th>1</th>\n",
       "      <td>3800</td>\n",
       "      <td>48752</td>\n",
       "      <td>UK</td>\n",
       "      <td>16-03-2020</td>\n",
       "      <td>advice Talk to your neighbours family to excha...</td>\n",
       "      <td>Positive</td>\n",
       "    </tr>\n",
       "    <tr>\n",
       "      <th>2</th>\n",
       "      <td>3801</td>\n",
       "      <td>48753</td>\n",
       "      <td>Vagabonds</td>\n",
       "      <td>16-03-2020</td>\n",
       "      <td>Coronavirus Australia: Woolworths to give elde...</td>\n",
       "      <td>Positive</td>\n",
       "    </tr>\n",
       "    <tr>\n",
       "      <th>3</th>\n",
       "      <td>3802</td>\n",
       "      <td>48754</td>\n",
       "      <td>NaN</td>\n",
       "      <td>16-03-2020</td>\n",
       "      <td>My food stock is not the only one which is emp...</td>\n",
       "      <td>Positive</td>\n",
       "    </tr>\n",
       "    <tr>\n",
       "      <th>4</th>\n",
       "      <td>3803</td>\n",
       "      <td>48755</td>\n",
       "      <td>NaN</td>\n",
       "      <td>16-03-2020</td>\n",
       "      <td>Me, ready to go at supermarket during the #COV...</td>\n",
       "      <td>Extremely Negative</td>\n",
       "    </tr>\n",
       "  </tbody>\n",
       "</table>\n",
       "</div>"
      ],
      "text/plain": [
       "   UserName  ScreenName   Location     TweetAt  \\\n",
       "0      3799       48751     London  16-03-2020   \n",
       "1      3800       48752         UK  16-03-2020   \n",
       "2      3801       48753  Vagabonds  16-03-2020   \n",
       "3      3802       48754        NaN  16-03-2020   \n",
       "4      3803       48755        NaN  16-03-2020   \n",
       "\n",
       "                                       OriginalTweet           Sentiment  \n",
       "0  @MeNyrbie @Phil_Gahan @Chrisitv https://t.co/i...             Neutral  \n",
       "1  advice Talk to your neighbours family to excha...            Positive  \n",
       "2  Coronavirus Australia: Woolworths to give elde...            Positive  \n",
       "3  My food stock is not the only one which is emp...            Positive  \n",
       "4  Me, ready to go at supermarket during the #COV...  Extremely Negative  "
      ]
     },
     "execution_count": 4,
     "metadata": {},
     "output_type": "execute_result"
    }
   ],
   "source": [
    "train_df.head()"
   ]
  },
  {
   "cell_type": "code",
   "execution_count": 5,
   "id": "00e65be2",
   "metadata": {
    "execution": {
     "iopub.execute_input": "2024-04-25T18:12:19.453567Z",
     "iopub.status.busy": "2024-04-25T18:12:19.453273Z",
     "iopub.status.idle": "2024-04-25T18:12:19.464627Z",
     "shell.execute_reply": "2024-04-25T18:12:19.463710Z"
    },
    "papermill": {
     "duration": 0.023754,
     "end_time": "2024-04-25T18:12:19.467069",
     "exception": false,
     "start_time": "2024-04-25T18:12:19.443315",
     "status": "completed"
    },
    "tags": []
   },
   "outputs": [
    {
     "data": {
      "text/html": [
       "<div>\n",
       "<style scoped>\n",
       "    .dataframe tbody tr th:only-of-type {\n",
       "        vertical-align: middle;\n",
       "    }\n",
       "\n",
       "    .dataframe tbody tr th {\n",
       "        vertical-align: top;\n",
       "    }\n",
       "\n",
       "    .dataframe thead th {\n",
       "        text-align: right;\n",
       "    }\n",
       "</style>\n",
       "<table border=\"1\" class=\"dataframe\">\n",
       "  <thead>\n",
       "    <tr style=\"text-align: right;\">\n",
       "      <th></th>\n",
       "      <th>UserName</th>\n",
       "      <th>ScreenName</th>\n",
       "      <th>Location</th>\n",
       "      <th>TweetAt</th>\n",
       "      <th>OriginalTweet</th>\n",
       "      <th>Sentiment</th>\n",
       "    </tr>\n",
       "  </thead>\n",
       "  <tbody>\n",
       "    <tr>\n",
       "      <th>0</th>\n",
       "      <td>1</td>\n",
       "      <td>44953</td>\n",
       "      <td>NYC</td>\n",
       "      <td>02-03-2020</td>\n",
       "      <td>TRENDING: New Yorkers encounter empty supermar...</td>\n",
       "      <td>Extremely Negative</td>\n",
       "    </tr>\n",
       "    <tr>\n",
       "      <th>1</th>\n",
       "      <td>2</td>\n",
       "      <td>44954</td>\n",
       "      <td>Seattle, WA</td>\n",
       "      <td>02-03-2020</td>\n",
       "      <td>When I couldn't find hand sanitizer at Fred Me...</td>\n",
       "      <td>Positive</td>\n",
       "    </tr>\n",
       "    <tr>\n",
       "      <th>2</th>\n",
       "      <td>3</td>\n",
       "      <td>44955</td>\n",
       "      <td>NaN</td>\n",
       "      <td>02-03-2020</td>\n",
       "      <td>Find out how you can protect yourself and love...</td>\n",
       "      <td>Extremely Positive</td>\n",
       "    </tr>\n",
       "    <tr>\n",
       "      <th>3</th>\n",
       "      <td>4</td>\n",
       "      <td>44956</td>\n",
       "      <td>Chicagoland</td>\n",
       "      <td>02-03-2020</td>\n",
       "      <td>#Panic buying hits #NewYork City as anxious sh...</td>\n",
       "      <td>Negative</td>\n",
       "    </tr>\n",
       "    <tr>\n",
       "      <th>4</th>\n",
       "      <td>5</td>\n",
       "      <td>44957</td>\n",
       "      <td>Melbourne, Victoria</td>\n",
       "      <td>03-03-2020</td>\n",
       "      <td>#toiletpaper #dunnypaper #coronavirus #coronav...</td>\n",
       "      <td>Neutral</td>\n",
       "    </tr>\n",
       "  </tbody>\n",
       "</table>\n",
       "</div>"
      ],
      "text/plain": [
       "   UserName  ScreenName             Location     TweetAt  \\\n",
       "0         1       44953                  NYC  02-03-2020   \n",
       "1         2       44954          Seattle, WA  02-03-2020   \n",
       "2         3       44955                  NaN  02-03-2020   \n",
       "3         4       44956          Chicagoland  02-03-2020   \n",
       "4         5       44957  Melbourne, Victoria  03-03-2020   \n",
       "\n",
       "                                       OriginalTweet           Sentiment  \n",
       "0  TRENDING: New Yorkers encounter empty supermar...  Extremely Negative  \n",
       "1  When I couldn't find hand sanitizer at Fred Me...            Positive  \n",
       "2  Find out how you can protect yourself and love...  Extremely Positive  \n",
       "3  #Panic buying hits #NewYork City as anxious sh...            Negative  \n",
       "4  #toiletpaper #dunnypaper #coronavirus #coronav...             Neutral  "
      ]
     },
     "execution_count": 5,
     "metadata": {},
     "output_type": "execute_result"
    }
   ],
   "source": [
    "test_df.head()"
   ]
  },
  {
   "cell_type": "code",
   "execution_count": 6,
   "id": "1a42b2cc",
   "metadata": {
    "execution": {
     "iopub.execute_input": "2024-04-25T18:12:19.492990Z",
     "iopub.status.busy": "2024-04-25T18:12:19.492232Z",
     "iopub.status.idle": "2024-04-25T18:12:19.912459Z",
     "shell.execute_reply": "2024-04-25T18:12:19.911390Z"
    },
    "papermill": {
     "duration": 0.434902,
     "end_time": "2024-04-25T18:12:19.915145",
     "exception": false,
     "start_time": "2024-04-25T18:12:19.480243",
     "status": "completed"
    },
    "tags": []
   },
   "outputs": [
    {
     "data": {
      "image/png": "[encoded data removed]",
      "text/plain": [
       "<Figure size 640x480 with 1 Axes>"
      ]
     },
     "metadata": {},
     "output_type": "display_data"
    }
   ],
   "source": [
    "sns.set_style(style='whitegrid')\n",
    "train_df['Sentiment'].value_counts().plot(kind='bar');"
   ]
  },
  {
   "cell_type": "code",
   "execution_count": 7,
   "id": "52994697",
   "metadata": {
    "execution": {
     "iopub.execute_input": "2024-04-25T18:12:19.940473Z",
     "iopub.status.busy": "2024-04-25T18:12:19.939837Z",
     "iopub.status.idle": "2024-04-25T18:12:19.969327Z",
     "shell.execute_reply": "2024-04-25T18:12:19.968389Z"
    },
    "papermill": {
     "duration": 0.042581,
     "end_time": "2024-04-25T18:12:19.971723",
     "exception": false,
     "start_time": "2024-04-25T18:12:19.929142",
     "status": "completed"
    },
    "tags": []
   },
   "outputs": [
    {
     "data": {
      "text/plain": [
       "UserName            0\n",
       "ScreenName          0\n",
       "Location         8590\n",
       "TweetAt             0\n",
       "OriginalTweet       0\n",
       "Sentiment           0\n",
       "dtype: int64"
      ]
     },
     "execution_count": 7,
     "metadata": {},
     "output_type": "execute_result"
    }
   ],
   "source": [
    "train_df.isnull().sum()"
   ]
  },
  {
   "cell_type": "code",
   "execution_count": 8,
   "id": "705db172",
   "metadata": {
    "execution": {
     "iopub.execute_input": "2024-04-25T18:12:19.997467Z",
     "iopub.status.busy": "2024-04-25T18:12:19.997186Z",
     "iopub.status.idle": "2024-04-25T18:12:20.006758Z",
     "shell.execute_reply": "2024-04-25T18:12:20.005918Z"
    },
    "papermill": {
     "duration": 0.022703,
     "end_time": "2024-04-25T18:12:20.009177",
     "exception": false,
     "start_time": "2024-04-25T18:12:19.986474",
     "status": "completed"
    },
    "tags": []
   },
   "outputs": [],
   "source": [
    "train_df = train_df.drop(\n",
    "    columns=['UserName','ScreenName','Location','TweetAt'],\n",
    "    axis=1\n",
    ")"
   ]
  },
  {
   "cell_type": "code",
   "execution_count": 9,
   "id": "64a37380",
   "metadata": {
    "execution": {
     "iopub.execute_input": "2024-04-25T18:12:20.035341Z",
     "iopub.status.busy": "2024-04-25T18:12:20.035061Z",
     "iopub.status.idle": "2024-04-25T18:12:20.044514Z",
     "shell.execute_reply": "2024-04-25T18:12:20.043529Z"
    },
    "papermill": {
     "duration": 0.023232,
     "end_time": "2024-04-25T18:12:20.046727",
     "exception": false,
     "start_time": "2024-04-25T18:12:20.023495",
     "status": "completed"
    },
    "tags": []
   },
   "outputs": [
    {
     "data": {
      "text/html": [
       "<div>\n",
       "<style scoped>\n",
       "    .dataframe tbody tr th:only-of-type {\n",
       "        vertical-align: middle;\n",
       "    }\n",
       "\n",
       "    .dataframe tbody tr th {\n",
       "        vertical-align: top;\n",
       "    }\n",
       "\n",
       "    .dataframe thead th {\n",
       "        text-align: right;\n",
       "    }\n",
       "</style>\n",
       "<table border=\"1\" class=\"dataframe\">\n",
       "  <thead>\n",
       "    <tr style=\"text-align: right;\">\n",
       "      <th></th>\n",
       "      <th>OriginalTweet</th>\n",
       "      <th>Sentiment</th>\n",
       "    </tr>\n",
       "  </thead>\n",
       "  <tbody>\n",
       "    <tr>\n",
       "      <th>0</th>\n",
       "      <td>@MeNyrbie @Phil_Gahan @Chrisitv https://t.co/i...</td>\n",
       "      <td>Neutral</td>\n",
       "    </tr>\n",
       "    <tr>\n",
       "      <th>1</th>\n",
       "      <td>advice Talk to your neighbours family to excha...</td>\n",
       "      <td>Positive</td>\n",
       "    </tr>\n",
       "    <tr>\n",
       "      <th>2</th>\n",
       "      <td>Coronavirus Australia: Woolworths to give elde...</td>\n",
       "      <td>Positive</td>\n",
       "    </tr>\n",
       "    <tr>\n",
       "      <th>3</th>\n",
       "      <td>My food stock is not the only one which is emp...</td>\n",
       "      <td>Positive</td>\n",
       "    </tr>\n",
       "    <tr>\n",
       "      <th>4</th>\n",
       "      <td>Me, ready to go at supermarket during the #COV...</td>\n",
       "      <td>Extremely Negative</td>\n",
       "    </tr>\n",
       "  </tbody>\n",
       "</table>\n",
       "</div>"
      ],
      "text/plain": [
       "                                       OriginalTweet           Sentiment\n",
       "0  @MeNyrbie @Phil_Gahan @Chrisitv https://t.co/i...             Neutral\n",
       "1  advice Talk to your neighbours family to excha...            Positive\n",
       "2  Coronavirus Australia: Woolworths to give elde...            Positive\n",
       "3  My food stock is not the only one which is emp...            Positive\n",
       "4  Me, ready to go at supermarket during the #COV...  Extremely Negative"
      ]
     },
     "execution_count": 9,
     "metadata": {},
     "output_type": "execute_result"
    }
   ],
   "source": [
    "train_df.head()"
   ]
  },
  {
   "cell_type": "code",
   "execution_count": 10,
   "id": "786047b0",
   "metadata": {
    "execution": {
     "iopub.execute_input": "2024-04-25T18:12:20.070024Z",
     "iopub.status.busy": "2024-04-25T18:12:20.069765Z",
     "iopub.status.idle": "2024-04-25T18:12:20.075581Z",
     "shell.execute_reply": "2024-04-25T18:12:20.074705Z"
    },
    "papermill": {
     "duration": 0.019803,
     "end_time": "2024-04-25T18:12:20.077620",
     "exception": false,
     "start_time": "2024-04-25T18:12:20.057817",
     "status": "completed"
    },
    "tags": []
   },
   "outputs": [
    {
     "data": {
      "text/plain": [
       "'advice Talk to your neighbours family to exchange phone numbers create contact list with phone numbers of neighbours schools employer chemist GP set up online shopping accounts if poss adequate supplies of regular meds but not over order'"
      ]
     },
     "execution_count": 10,
     "metadata": {},
     "output_type": "execute_result"
    }
   ],
   "source": [
    "train_df['OriginalTweet'].iloc[1]"
   ]
  },
  {
   "cell_type": "code",
   "execution_count": 11,
   "id": "ac46d8ce",
   "metadata": {
    "execution": {
     "iopub.execute_input": "2024-04-25T18:12:20.099973Z",
     "iopub.status.busy": "2024-04-25T18:12:20.099197Z",
     "iopub.status.idle": "2024-04-25T18:12:20.118977Z",
     "shell.execute_reply": "2024-04-25T18:12:20.118095Z"
    },
    "papermill": {
     "duration": 0.033141,
     "end_time": "2024-04-25T18:12:20.120946",
     "exception": false,
     "start_time": "2024-04-25T18:12:20.087805",
     "status": "completed"
    },
    "tags": []
   },
   "outputs": [
    {
     "data": {
      "text/plain": [
       "0"
      ]
     },
     "execution_count": 11,
     "metadata": {},
     "output_type": "execute_result"
    }
   ],
   "source": [
    "train_df['OriginalTweet'].duplicated().sum()"
   ]
  },
  {
   "cell_type": "code",
   "execution_count": 12,
   "id": "c8edde6b",
   "metadata": {
    "execution": {
     "iopub.execute_input": "2024-04-25T18:12:20.142840Z",
     "iopub.status.busy": "2024-04-25T18:12:20.142513Z",
     "iopub.status.idle": "2024-04-25T18:12:20.866835Z",
     "shell.execute_reply": "2024-04-25T18:12:20.865909Z"
    },
    "papermill": {
     "duration": 0.73809,
     "end_time": "2024-04-25T18:12:20.868871",
     "exception": false,
     "start_time": "2024-04-25T18:12:20.130781",
     "status": "completed"
    },
    "tags": []
   },
   "outputs": [
    {
     "name": "stdout",
     "output_type": "stream",
     "text": [
      "[nltk_data] Downloading package stopwords to /usr/share/nltk_data...\n",
      "[nltk_data]   Package stopwords is already up-to-date!\n"
     ]
    }
   ],
   "source": [
    "import re\n",
    "import nltk\n",
    "from nltk.corpus import stopwords\n",
    "\n",
    "nltk.download('stopwords')\n",
    "\n",
    "def clean_text(text):\n",
    "    # Remove HTML tags and special characters\n",
    "    text = re.sub(r'<[^>]+>', '', text)  # Remove HTML tags\n",
    "    text = re.sub(r'[^a-zA-Z0-9\\s]', '', text)  # Remove special characters except spaces\n",
    "\n",
    "    # Convert uppercase to lowercase\n",
    "    text = text.lower()\n",
    "\n",
    "    # Remove stopwords\n",
    "    stop_words = set(stopwords.words('english'))\n",
    "    words = text.split()\n",
    "    cleaned_words = [word for word in words if word not in stop_words]\n",
    "    cleaned_text = ' '.join(cleaned_words)\n",
    "\n",
    "    return cleaned_text\n"
   ]
  },
  {
   "cell_type": "code",
   "execution_count": 13,
   "id": "c9ab6290",
   "metadata": {
    "execution": {
     "iopub.execute_input": "2024-04-25T18:12:20.890948Z",
     "iopub.status.busy": "2024-04-25T18:12:20.890344Z",
     "iopub.status.idle": "2024-04-25T18:12:27.387427Z",
     "shell.execute_reply": "2024-04-25T18:12:27.386636Z"
    },
    "papermill": {
     "duration": 6.510536,
     "end_time": "2024-04-25T18:12:27.389798",
     "exception": false,
     "start_time": "2024-04-25T18:12:20.879262",
     "status": "completed"
    },
    "tags": []
   },
   "outputs": [],
   "source": [
    "train_df['CleanedTweet'] = train_df['OriginalTweet'].apply(clean_text)"
   ]
  },
  {
   "cell_type": "code",
   "execution_count": 14,
   "id": "b9023694",
   "metadata": {
    "execution": {
     "iopub.execute_input": "2024-04-25T18:12:27.412923Z",
     "iopub.status.busy": "2024-04-25T18:12:27.412577Z",
     "iopub.status.idle": "2024-04-25T18:12:27.422841Z",
     "shell.execute_reply": "2024-04-25T18:12:27.421852Z"
    },
    "papermill": {
     "duration": 0.023891,
     "end_time": "2024-04-25T18:12:27.424788",
     "exception": false,
     "start_time": "2024-04-25T18:12:27.400897",
     "status": "completed"
    },
    "tags": []
   },
   "outputs": [
    {
     "data": {
      "text/html": [
       "<div>\n",
       "<style scoped>\n",
       "    .dataframe tbody tr th:only-of-type {\n",
       "        vertical-align: middle;\n",
       "    }\n",
       "\n",
       "    .dataframe tbody tr th {\n",
       "        vertical-align: top;\n",
       "    }\n",
       "\n",
       "    .dataframe thead th {\n",
       "        text-align: right;\n",
       "    }\n",
       "</style>\n",
       "<table border=\"1\" class=\"dataframe\">\n",
       "  <thead>\n",
       "    <tr style=\"text-align: right;\">\n",
       "      <th></th>\n",
       "      <th>OriginalTweet</th>\n",
       "      <th>Sentiment</th>\n",
       "      <th>CleanedTweet</th>\n",
       "    </tr>\n",
       "  </thead>\n",
       "  <tbody>\n",
       "    <tr>\n",
       "      <th>0</th>\n",
       "      <td>@MeNyrbie @Phil_Gahan @Chrisitv https://t.co/i...</td>\n",
       "      <td>Neutral</td>\n",
       "      <td>menyrbie philgahan chrisitv httpstcoifz9fan2pa...</td>\n",
       "    </tr>\n",
       "    <tr>\n",
       "      <th>1</th>\n",
       "      <td>advice Talk to your neighbours family to excha...</td>\n",
       "      <td>Positive</td>\n",
       "      <td>advice talk neighbours family exchange phone n...</td>\n",
       "    </tr>\n",
       "    <tr>\n",
       "      <th>2</th>\n",
       "      <td>Coronavirus Australia: Woolworths to give elde...</td>\n",
       "      <td>Positive</td>\n",
       "      <td>coronavirus australia woolworths give elderly ...</td>\n",
       "    </tr>\n",
       "    <tr>\n",
       "      <th>3</th>\n",
       "      <td>My food stock is not the only one which is emp...</td>\n",
       "      <td>Positive</td>\n",
       "      <td>food stock one empty please dont panic enough ...</td>\n",
       "    </tr>\n",
       "    <tr>\n",
       "      <th>4</th>\n",
       "      <td>Me, ready to go at supermarket during the #COV...</td>\n",
       "      <td>Extremely Negative</td>\n",
       "      <td>ready go supermarket covid19 outbreak im paran...</td>\n",
       "    </tr>\n",
       "  </tbody>\n",
       "</table>\n",
       "</div>"
      ],
      "text/plain": [
       "                                       OriginalTweet           Sentiment  \\\n",
       "0  @MeNyrbie @Phil_Gahan @Chrisitv https://t.co/i...             Neutral   \n",
       "1  advice Talk to your neighbours family to excha...            Positive   \n",
       "2  Coronavirus Australia: Woolworths to give elde...            Positive   \n",
       "3  My food stock is not the only one which is emp...            Positive   \n",
       "4  Me, ready to go at supermarket during the #COV...  Extremely Negative   \n",
       "\n",
       "                                        CleanedTweet  \n",
       "0  menyrbie philgahan chrisitv httpstcoifz9fan2pa...  \n",
       "1  advice talk neighbours family exchange phone n...  \n",
       "2  coronavirus australia woolworths give elderly ...  \n",
       "3  food stock one empty please dont panic enough ...  \n",
       "4  ready go supermarket covid19 outbreak im paran...  "
      ]
     },
     "execution_count": 14,
     "metadata": {},
     "output_type": "execute_result"
    }
   ],
   "source": [
    "train_df.head()"
   ]
  },
  {
   "cell_type": "markdown",
   "id": "e520423b",
   "metadata": {
    "papermill": {
     "duration": 0.010552,
     "end_time": "2024-04-25T18:12:27.446041",
     "exception": false,
     "start_time": "2024-04-25T18:12:27.435489",
     "status": "completed"
    },
    "tags": []
   },
   "source": [
    "# Preprocessing"
   ]
  },
  {
   "cell_type": "code",
   "execution_count": 15,
   "id": "105e7d27",
   "metadata": {
    "execution": {
     "iopub.execute_input": "2024-04-25T18:12:27.468925Z",
     "iopub.status.busy": "2024-04-25T18:12:27.468332Z",
     "iopub.status.idle": "2024-04-25T18:12:27.472176Z",
     "shell.execute_reply": "2024-04-25T18:12:27.471309Z"
    },
    "papermill": {
     "duration": 0.017321,
     "end_time": "2024-04-25T18:12:27.474198",
     "exception": false,
     "start_time": "2024-04-25T18:12:27.456877",
     "status": "completed"
    },
    "tags": []
   },
   "outputs": [],
   "source": [
    "# now change the dataset input numbers\n",
    "from sklearn.preprocessing import LabelEncoder"
   ]
  },
  {
   "cell_type": "code",
   "execution_count": 16,
   "id": "4fe2572d",
   "metadata": {
    "execution": {
     "iopub.execute_input": "2024-04-25T18:12:27.496458Z",
     "iopub.status.busy": "2024-04-25T18:12:27.495950Z",
     "iopub.status.idle": "2024-04-25T18:12:27.510540Z",
     "shell.execute_reply": "2024-04-25T18:12:27.509837Z"
    },
    "papermill": {
     "duration": 0.027902,
     "end_time": "2024-04-25T18:12:27.512506",
     "exception": false,
     "start_time": "2024-04-25T18:12:27.484604",
     "status": "completed"
    },
    "tags": []
   },
   "outputs": [],
   "source": [
    "le = LabelEncoder()\n",
    "train_df['Senti_Label']=le.fit_transform(train_df['Sentiment'])"
   ]
  },
  {
   "cell_type": "code",
   "execution_count": 17,
   "id": "c1a977cd",
   "metadata": {
    "execution": {
     "iopub.execute_input": "2024-04-25T18:12:27.535425Z",
     "iopub.status.busy": "2024-04-25T18:12:27.534959Z",
     "iopub.status.idle": "2024-04-25T18:12:27.544862Z",
     "shell.execute_reply": "2024-04-25T18:12:27.544012Z"
    },
    "papermill": {
     "duration": 0.023899,
     "end_time": "2024-04-25T18:12:27.547231",
     "exception": false,
     "start_time": "2024-04-25T18:12:27.523332",
     "status": "completed"
    },
    "tags": []
   },
   "outputs": [
    {
     "data": {
      "text/html": [
       "<div>\n",
       "<style scoped>\n",
       "    .dataframe tbody tr th:only-of-type {\n",
       "        vertical-align: middle;\n",
       "    }\n",
       "\n",
       "    .dataframe tbody tr th {\n",
       "        vertical-align: top;\n",
       "    }\n",
       "\n",
       "    .dataframe thead th {\n",
       "        text-align: right;\n",
       "    }\n",
       "</style>\n",
       "<table border=\"1\" class=\"dataframe\">\n",
       "  <thead>\n",
       "    <tr style=\"text-align: right;\">\n",
       "      <th></th>\n",
       "      <th>OriginalTweet</th>\n",
       "      <th>Sentiment</th>\n",
       "      <th>CleanedTweet</th>\n",
       "      <th>Senti_Label</th>\n",
       "    </tr>\n",
       "  </thead>\n",
       "  <tbody>\n",
       "    <tr>\n",
       "      <th>0</th>\n",
       "      <td>@MeNyrbie @Phil_Gahan @Chrisitv https://t.co/i...</td>\n",
       "      <td>Neutral</td>\n",
       "      <td>menyrbie philgahan chrisitv httpstcoifz9fan2pa...</td>\n",
       "      <td>3</td>\n",
       "    </tr>\n",
       "    <tr>\n",
       "      <th>1</th>\n",
       "      <td>advice Talk to your neighbours family to excha...</td>\n",
       "      <td>Positive</td>\n",
       "      <td>advice talk neighbours family exchange phone n...</td>\n",
       "      <td>4</td>\n",
       "    </tr>\n",
       "    <tr>\n",
       "      <th>2</th>\n",
       "      <td>Coronavirus Australia: Woolworths to give elde...</td>\n",
       "      <td>Positive</td>\n",
       "      <td>coronavirus australia woolworths give elderly ...</td>\n",
       "      <td>4</td>\n",
       "    </tr>\n",
       "    <tr>\n",
       "      <th>3</th>\n",
       "      <td>My food stock is not the only one which is emp...</td>\n",
       "      <td>Positive</td>\n",
       "      <td>food stock one empty please dont panic enough ...</td>\n",
       "      <td>4</td>\n",
       "    </tr>\n",
       "    <tr>\n",
       "      <th>4</th>\n",
       "      <td>Me, ready to go at supermarket during the #COV...</td>\n",
       "      <td>Extremely Negative</td>\n",
       "      <td>ready go supermarket covid19 outbreak im paran...</td>\n",
       "      <td>0</td>\n",
       "    </tr>\n",
       "  </tbody>\n",
       "</table>\n",
       "</div>"
      ],
      "text/plain": [
       "                                       OriginalTweet           Sentiment  \\\n",
       "0  @MeNyrbie @Phil_Gahan @Chrisitv https://t.co/i...             Neutral   \n",
       "1  advice Talk to your neighbours family to excha...            Positive   \n",
       "2  Coronavirus Australia: Woolworths to give elde...            Positive   \n",
       "3  My food stock is not the only one which is emp...            Positive   \n",
       "4  Me, ready to go at supermarket during the #COV...  Extremely Negative   \n",
       "\n",
       "                                        CleanedTweet  Senti_Label  \n",
       "0  menyrbie philgahan chrisitv httpstcoifz9fan2pa...            3  \n",
       "1  advice talk neighbours family exchange phone n...            4  \n",
       "2  coronavirus australia woolworths give elderly ...            4  \n",
       "3  food stock one empty please dont panic enough ...            4  \n",
       "4  ready go supermarket covid19 outbreak im paran...            0  "
      ]
     },
     "execution_count": 17,
     "metadata": {},
     "output_type": "execute_result"
    }
   ],
   "source": [
    "train_df.head()"
   ]
  },
  {
   "cell_type": "code",
   "execution_count": 18,
   "id": "faf3a5b8",
   "metadata": {
    "execution": {
     "iopub.execute_input": "2024-04-25T18:12:27.570711Z",
     "iopub.status.busy": "2024-04-25T18:12:27.569735Z",
     "iopub.status.idle": "2024-04-25T18:12:37.894309Z",
     "shell.execute_reply": "2024-04-25T18:12:37.893230Z"
    },
    "papermill": {
     "duration": 10.338639,
     "end_time": "2024-04-25T18:12:37.896851",
     "exception": false,
     "start_time": "2024-04-25T18:12:27.558212",
     "status": "completed"
    },
    "tags": []
   },
   "outputs": [
    {
     "name": "stderr",
     "output_type": "stream",
     "text": [
      "2024-04-25 18:12:28.913197: E external/local_xla/xla/stream_executor/cuda/cuda_dnn.cc:9261] Unable to register cuDNN factory: Attempting to register factory for plugin cuDNN when one has already been registered\n",
      "2024-04-25 18:12:28.913297: E external/local_xla/xla/stream_executor/cuda/cuda_fft.cc:607] Unable to register cuFFT factory: Attempting to register factory for plugin cuFFT when one has already been registered\n",
      "2024-04-25 18:12:28.996834: E external/local_xla/xla/stream_executor/cuda/cuda_blas.cc:1515] Unable to register cuBLAS factory: Attempting to register factory for plugin cuBLAS when one has already been registered\n"
     ]
    }
   ],
   "source": [
    "import tensorflow as tf\n",
    "from tensorflow.keras.preprocessing.text import Tokenizer\n",
    "from tensorflow.keras.preprocessing.sequence import pad_sequences\n",
    "from tensorflow.keras.utils import to_categorical\n",
    "import warnings as wn\n",
    "wn.filterwarnings('ignore')"
   ]
  },
  {
   "cell_type": "code",
   "execution_count": 19,
   "id": "4afebd57",
   "metadata": {
    "execution": {
     "iopub.execute_input": "2024-04-25T18:12:37.920520Z",
     "iopub.status.busy": "2024-04-25T18:12:37.919971Z",
     "iopub.status.idle": "2024-04-25T18:12:40.194345Z",
     "shell.execute_reply": "2024-04-25T18:12:40.193209Z"
    },
    "papermill": {
     "duration": 2.288711,
     "end_time": "2024-04-25T18:12:40.196862",
     "exception": false,
     "start_time": "2024-04-25T18:12:37.908151",
     "status": "completed"
    },
    "tags": []
   },
   "outputs": [],
   "source": [
    "texts = train_df['CleanedTweet'].tolist()\n",
    "\n",
    "vocab_size = 50000  # Adjust as needed\n",
    "max_length = 20    # Adjust as needed\n",
    "\n",
    "\n",
    "# Define tokenizer\n",
    "tokenizer = Tokenizer(num_words=vocab_size,oov_token='<OOV>')\n",
    "tokenizer.fit_on_texts(texts)\n",
    "\n",
    "# Tokenize text\n",
    "sequences = tokenizer.texts_to_sequences(texts)\n",
    "pad_seq = pad_sequences(\n",
    "    sequences=sequences,\n",
    "    maxlen=max_length,\n",
    "    padding='post'\n",
    ")"
   ]
  },
  {
   "cell_type": "code",
   "execution_count": 20,
   "id": "326ab132",
   "metadata": {
    "execution": {
     "iopub.execute_input": "2024-04-25T18:12:40.220787Z",
     "iopub.status.busy": "2024-04-25T18:12:40.220440Z",
     "iopub.status.idle": "2024-04-25T18:12:40.227272Z",
     "shell.execute_reply": "2024-04-25T18:12:40.226354Z"
    },
    "papermill": {
     "duration": 0.021165,
     "end_time": "2024-04-25T18:12:40.229206",
     "exception": false,
     "start_time": "2024-04-25T18:12:40.208041",
     "status": "completed"
    },
    "tags": []
   },
   "outputs": [
    {
     "data": {
      "text/plain": [
       "array([16413,   765,   113,    89,     9, 11167,   507,    49,   575,\n",
       "         558,   110,    29,    23,     5,    43,    45,   201, 23730,\n",
       "         360, 23731], dtype=int32)"
      ]
     },
     "execution_count": 20,
     "metadata": {},
     "output_type": "execute_result"
    }
   ],
   "source": [
    "pad_seq[5]"
   ]
  },
  {
   "cell_type": "markdown",
   "id": "5f30e3be",
   "metadata": {
    "papermill": {
     "duration": 0.011318,
     "end_time": "2024-04-25T18:12:40.252508",
     "exception": false,
     "start_time": "2024-04-25T18:12:40.241190",
     "status": "completed"
    },
    "tags": []
   },
   "source": [
    "# Apply Model"
   ]
  },
  {
   "cell_type": "code",
   "execution_count": 21,
   "id": "1d844111",
   "metadata": {
    "execution": {
     "iopub.execute_input": "2024-04-25T18:12:40.276432Z",
     "iopub.status.busy": "2024-04-25T18:12:40.276154Z",
     "iopub.status.idle": "2024-04-25T18:12:40.284364Z",
     "shell.execute_reply": "2024-04-25T18:12:40.283710Z"
    },
    "papermill": {
     "duration": 0.022375,
     "end_time": "2024-04-25T18:12:40.286264",
     "exception": false,
     "start_time": "2024-04-25T18:12:40.263889",
     "status": "completed"
    },
    "tags": []
   },
   "outputs": [],
   "source": [
    "import tensorflow as tf\n",
    "from tensorflow.keras.models import Sequential\n",
    "from tensorflow.keras.layers import Embedding, LSTM, Dense\n",
    "from tensorflow.keras.layers import BatchNormalization,Dropout\n",
    "from tensorflow.keras.callbacks import EarlyStopping"
   ]
  },
  {
   "cell_type": "code",
   "execution_count": 22,
   "id": "af6b49f1",
   "metadata": {
    "execution": {
     "iopub.execute_input": "2024-04-25T18:12:40.309359Z",
     "iopub.status.busy": "2024-04-25T18:12:40.309065Z",
     "iopub.status.idle": "2024-04-25T18:12:40.315036Z",
     "shell.execute_reply": "2024-04-25T18:12:40.314144Z"
    },
    "papermill": {
     "duration": 0.01929,
     "end_time": "2024-04-25T18:12:40.316883",
     "exception": false,
     "start_time": "2024-04-25T18:12:40.297593",
     "status": "completed"
    },
    "tags": []
   },
   "outputs": [
    {
     "data": {
      "text/plain": [
       "((41157, 20), (41157,))"
      ]
     },
     "execution_count": 22,
     "metadata": {},
     "output_type": "execute_result"
    }
   ],
   "source": [
    "pad_seq.shape, train_df['Senti_Label'].shape"
   ]
  },
  {
   "cell_type": "code",
   "execution_count": 23,
   "id": "b672a222",
   "metadata": {
    "execution": {
     "iopub.execute_input": "2024-04-25T18:12:40.339293Z",
     "iopub.status.busy": "2024-04-25T18:12:40.339043Z",
     "iopub.status.idle": "2024-04-25T18:12:40.344049Z",
     "shell.execute_reply": "2024-04-25T18:12:40.343145Z"
    },
    "papermill": {
     "duration": 0.01848,
     "end_time": "2024-04-25T18:12:40.346048",
     "exception": false,
     "start_time": "2024-04-25T18:12:40.327568",
     "status": "completed"
    },
    "tags": []
   },
   "outputs": [],
   "source": [
    "y = to_categorical(\n",
    "    x=train_df['Senti_Label'],\n",
    "    num_classes=5\n",
    ")"
   ]
  },
  {
   "cell_type": "code",
   "execution_count": 24,
   "id": "cc5ec090",
   "metadata": {
    "execution": {
     "iopub.execute_input": "2024-04-25T18:12:40.368744Z",
     "iopub.status.busy": "2024-04-25T18:12:40.368408Z",
     "iopub.status.idle": "2024-04-25T18:12:40.372496Z",
     "shell.execute_reply": "2024-04-25T18:12:40.371654Z"
    },
    "papermill": {
     "duration": 0.017922,
     "end_time": "2024-04-25T18:12:40.374524",
     "exception": false,
     "start_time": "2024-04-25T18:12:40.356602",
     "status": "completed"
    },
    "tags": []
   },
   "outputs": [],
   "source": [
    "from sklearn.model_selection import train_test_split"
   ]
  },
  {
   "cell_type": "code",
   "execution_count": 25,
   "id": "22f7533a",
   "metadata": {
    "execution": {
     "iopub.execute_input": "2024-04-25T18:12:40.397586Z",
     "iopub.status.busy": "2024-04-25T18:12:40.397336Z",
     "iopub.status.idle": "2024-04-25T18:12:40.403518Z",
     "shell.execute_reply": "2024-04-25T18:12:40.402566Z"
    },
    "papermill": {
     "duration": 0.019913,
     "end_time": "2024-04-25T18:12:40.405520",
     "exception": false,
     "start_time": "2024-04-25T18:12:40.385607",
     "status": "completed"
    },
    "tags": []
   },
   "outputs": [
    {
     "data": {
      "text/plain": [
       "array([[23719, 23720, 13082, ...,     0,     0,     0],\n",
       "       [ 1005,   348,   293, ...,   959,  3345,   151],\n",
       "       [    2,   713,  1692, ...,     0,     0,     0],\n",
       "       ...,\n",
       "       [   61,   144,  1535, ...,     0,     0,     0],\n",
       "       [  619,  4169,    29, ...,     0,     0,     0],\n",
       "       [ 2677,  2019,   294, ...,   648,     3,     1]], dtype=int32)"
      ]
     },
     "execution_count": 25,
     "metadata": {},
     "output_type": "execute_result"
    }
   ],
   "source": [
    "pad_seq"
   ]
  },
  {
   "cell_type": "code",
   "execution_count": 26,
   "id": "f9934c77",
   "metadata": {
    "execution": {
     "iopub.execute_input": "2024-04-25T18:12:40.429620Z",
     "iopub.status.busy": "2024-04-25T18:12:40.429362Z",
     "iopub.status.idle": "2024-04-25T18:12:40.443185Z",
     "shell.execute_reply": "2024-04-25T18:12:40.442506Z"
    },
    "papermill": {
     "duration": 0.028602,
     "end_time": "2024-04-25T18:12:40.445047",
     "exception": false,
     "start_time": "2024-04-25T18:12:40.416445",
     "status": "completed"
    },
    "tags": []
   },
   "outputs": [],
   "source": [
    "x_train,x_test,y_train,y_test = train_test_split(\n",
    "    pad_seq,\n",
    "    y,\n",
    "    test_size=0.2\n",
    ")"
   ]
  },
  {
   "cell_type": "code",
   "execution_count": 27,
   "id": "eaa978c0",
   "metadata": {
    "execution": {
     "iopub.execute_input": "2024-04-25T18:12:40.469097Z",
     "iopub.status.busy": "2024-04-25T18:12:40.468567Z",
     "iopub.status.idle": "2024-04-25T18:12:40.474103Z",
     "shell.execute_reply": "2024-04-25T18:12:40.473219Z"
    },
    "papermill": {
     "duration": 0.019669,
     "end_time": "2024-04-25T18:12:40.476030",
     "exception": false,
     "start_time": "2024-04-25T18:12:40.456361",
     "status": "completed"
    },
    "tags": []
   },
   "outputs": [
    {
     "data": {
      "text/plain": [
       "((32925, 20), (8232, 20))"
      ]
     },
     "execution_count": 27,
     "metadata": {},
     "output_type": "execute_result"
    }
   ],
   "source": [
    "x_train.shape,x_test.shape"
   ]
  },
  {
   "cell_type": "code",
   "execution_count": 28,
   "id": "5fb5b4fb",
   "metadata": {
    "execution": {
     "iopub.execute_input": "2024-04-25T18:12:40.499552Z",
     "iopub.status.busy": "2024-04-25T18:12:40.499280Z",
     "iopub.status.idle": "2024-04-25T18:12:41.272667Z",
     "shell.execute_reply": "2024-04-25T18:12:41.271651Z"
    },
    "papermill": {
     "duration": 0.787511,
     "end_time": "2024-04-25T18:12:41.274817",
     "exception": false,
     "start_time": "2024-04-25T18:12:40.487306",
     "status": "completed"
    },
    "tags": []
   },
   "outputs": [
    {
     "data": {
      "text/html": [
       "<pre style=\"white-space:pre;overflow-x:auto;line-height:normal;font-family:Menlo,'DejaVu Sans Mono',consolas,'Courier New',monospace\"><span style=\"font-weight: bold\">Model: \"sequential\"</span>\n",
       "</pre>\n"
      ],
      "text/plain": [
       "\u001b[1mModel: \"sequential\"\u001b[0m\n"
      ]
     },
     "metadata": {},
     "output_type": "display_data"
    },
    {
     "data": {
      "text/html": [
       "<pre style=\"white-space:pre;overflow-x:auto;line-height:normal;font-family:Menlo,'DejaVu Sans Mono',consolas,'Courier New',monospace\">┏━━━━━━━━━━━━━━━━━━━━━━━━━━━━━━━━━┳━━━━━━━━━━━━━━━━━━━━━━━━┳━━━━━━━━━━━━━━━┓\n",
       "┃<span style=\"font-weight: bold\"> Layer (type)                    </span>┃<span style=\"font-weight: bold\"> Output Shape           </span>┃<span style=\"font-weight: bold\">       Param # </span>┃\n",
       "┡━━━━━━━━━━━━━━━━━━━━━━━━━━━━━━━━━╇━━━━━━━━━━━━━━━━━━━━━━━━╇━━━━━━━━━━━━━━━┩\n",
       "│ embedding (<span style=\"color: #0087ff; text-decoration-color: #0087ff\">Embedding</span>)           │ ?                      │   <span style=\"color: #00af00; text-decoration-color: #00af00\">0</span> (unbuilt) │\n",
       "├─────────────────────────────────┼────────────────────────┼───────────────┤\n",
       "│ lstm (<span style=\"color: #0087ff; text-decoration-color: #0087ff\">LSTM</span>)                     │ ?                      │   <span style=\"color: #00af00; text-decoration-color: #00af00\">0</span> (unbuilt) │\n",
       "├─────────────────────────────────┼────────────────────────┼───────────────┤\n",
       "│ lstm_1 (<span style=\"color: #0087ff; text-decoration-color: #0087ff\">LSTM</span>)                   │ ?                      │   <span style=\"color: #00af00; text-decoration-color: #00af00\">0</span> (unbuilt) │\n",
       "├─────────────────────────────────┼────────────────────────┼───────────────┤\n",
       "│ batch_normalization             │ ?                      │   <span style=\"color: #00af00; text-decoration-color: #00af00\">0</span> (unbuilt) │\n",
       "│ (<span style=\"color: #0087ff; text-decoration-color: #0087ff\">BatchNormalization</span>)            │                        │               │\n",
       "├─────────────────────────────────┼────────────────────────┼───────────────┤\n",
       "│ dense (<span style=\"color: #0087ff; text-decoration-color: #0087ff\">Dense</span>)                   │ ?                      │   <span style=\"color: #00af00; text-decoration-color: #00af00\">0</span> (unbuilt) │\n",
       "└─────────────────────────────────┴────────────────────────┴───────────────┘\n",
       "</pre>\n"
      ],
      "text/plain": [
       "┏━━━━━━━━━━━━━━━━━━━━━━━━━━━━━━━━━┳━━━━━━━━━━━━━━━━━━━━━━━━┳━━━━━━━━━━━━━━━┓\n",
       "┃\u001b[1m \u001b[0m\u001b[1mLayer (type)                   \u001b[0m\u001b[1m \u001b[0m┃\u001b[1m \u001b[0m\u001b[1mOutput Shape          \u001b[0m\u001b[1m \u001b[0m┃\u001b[1m \u001b[0m\u001b[1m      Param #\u001b[0m\u001b[1m \u001b[0m┃\n",
       "┡━━━━━━━━━━━━━━━━━━━━━━━━━━━━━━━━━╇━━━━━━━━━━━━━━━━━━━━━━━━╇━━━━━━━━━━━━━━━┩\n",
       "│ embedding (\u001b[38;5;33mEmbedding\u001b[0m)           │ ?                      │   \u001b[38;5;34m0\u001b[0m (unbuilt) │\n",
       "├─────────────────────────────────┼────────────────────────┼───────────────┤\n",
       "│ lstm (\u001b[38;5;33mLSTM\u001b[0m)                     │ ?                      │   \u001b[38;5;34m0\u001b[0m (unbuilt) │\n",
       "├─────────────────────────────────┼────────────────────────┼───────────────┤\n",
       "│ lstm_1 (\u001b[38;5;33mLSTM\u001b[0m)                   │ ?                      │   \u001b[38;5;34m0\u001b[0m (unbuilt) │\n",
       "├─────────────────────────────────┼────────────────────────┼───────────────┤\n",
       "│ batch_normalization             │ ?                      │   \u001b[38;5;34m0\u001b[0m (unbuilt) │\n",
       "│ (\u001b[38;5;33mBatchNormalization\u001b[0m)            │                        │               │\n",
       "├─────────────────────────────────┼────────────────────────┼───────────────┤\n",
       "│ dense (\u001b[38;5;33mDense\u001b[0m)                   │ ?                      │   \u001b[38;5;34m0\u001b[0m (unbuilt) │\n",
       "└─────────────────────────────────┴────────────────────────┴───────────────┘\n"
      ]
     },
     "metadata": {},
     "output_type": "display_data"
    },
    {
     "data": {
      "text/html": [
       "<pre style=\"white-space:pre;overflow-x:auto;line-height:normal;font-family:Menlo,'DejaVu Sans Mono',consolas,'Courier New',monospace\"><span style=\"font-weight: bold\"> Total params: </span><span style=\"color: #00af00; text-decoration-color: #00af00\">0</span> (0.00 B)\n",
       "</pre>\n"
      ],
      "text/plain": [
       "\u001b[1m Total params: \u001b[0m\u001b[38;5;34m0\u001b[0m (0.00 B)\n"
      ]
     },
     "metadata": {},
     "output_type": "display_data"
    },
    {
     "data": {
      "text/html": [
       "<pre style=\"white-space:pre;overflow-x:auto;line-height:normal;font-family:Menlo,'DejaVu Sans Mono',consolas,'Courier New',monospace\"><span style=\"font-weight: bold\"> Trainable params: </span><span style=\"color: #00af00; text-decoration-color: #00af00\">0</span> (0.00 B)\n",
       "</pre>\n"
      ],
      "text/plain": [
       "\u001b[1m Trainable params: \u001b[0m\u001b[38;5;34m0\u001b[0m (0.00 B)\n"
      ]
     },
     "metadata": {},
     "output_type": "display_data"
    },
    {
     "data": {
      "text/html": [
       "<pre style=\"white-space:pre;overflow-x:auto;line-height:normal;font-family:Menlo,'DejaVu Sans Mono',consolas,'Courier New',monospace\"><span style=\"font-weight: bold\"> Non-trainable params: </span><span style=\"color: #00af00; text-decoration-color: #00af00\">0</span> (0.00 B)\n",
       "</pre>\n"
      ],
      "text/plain": [
       "\u001b[1m Non-trainable params: \u001b[0m\u001b[38;5;34m0\u001b[0m (0.00 B)\n"
      ]
     },
     "metadata": {},
     "output_type": "display_data"
    }
   ],
   "source": [
    "\n",
    "\n",
    "emb_dim = 16\n",
    "\n",
    "model = Sequential()\n",
    "model.add(Embedding(input_dim=vocab_size, output_dim=emb_dim, input_length=max_length))\n",
    "model.add(LSTM(units=20, activation='relu', return_sequences=True))\n",
    "model.add(LSTM(units=20, activation='relu', return_sequences=False))\n",
    "model.add(BatchNormalization())\n",
    "model.add(Dense(units=5, activation='softmax'))\n",
    "model.compile(\n",
    "    optimizer='adam',\n",
    "    loss='categorical_crossentropy',\n",
    "    metrics=['accuracy']\n",
    ")\n",
    "\n",
    "model.summary()\n"
   ]
  },
  {
   "cell_type": "code",
   "execution_count": 29,
   "id": "d9bce1df",
   "metadata": {
    "execution": {
     "iopub.execute_input": "2024-04-25T18:12:41.301142Z",
     "iopub.status.busy": "2024-04-25T18:12:41.300287Z",
     "iopub.status.idle": "2024-04-25T18:13:11.997138Z",
     "shell.execute_reply": "2024-04-25T18:13:11.996122Z"
    },
    "papermill": {
     "duration": 30.712158,
     "end_time": "2024-04-25T18:13:11.999566",
     "exception": false,
     "start_time": "2024-04-25T18:12:41.287408",
     "status": "completed"
    },
    "tags": []
   },
   "outputs": [
    {
     "name": "stdout",
     "output_type": "stream",
     "text": [
      "Epoch 1/10\n",
      "\u001b[1m 15/515\u001b[0m \u001b[37m━━━━━━━━━━━━━━━━━━━━\u001b[0m \u001b[1m3s\u001b[0m 8ms/step - accuracy: 0.2429 - loss: 1.5929"
     ]
    },
    {
     "name": "stderr",
     "output_type": "stream",
     "text": [
      "WARNING: All log messages before absl::InitializeLog() is called are written to STDERR\n",
      "I0000 00:00:1714068767.894918      74 device_compiler.h:186] Compiled cluster using XLA!  This line is logged at most once for the lifetime of the process.\n",
      "W0000 00:00:1714068767.924138      74 graph_launch.cc:671] Fallback to op-by-op mode because memset node breaks graph update\n",
      "W0000 00:00:1714068767.925909      74 graph_launch.cc:671] Fallback to op-by-op mode because memset node breaks graph update\n",
      "W0000 00:00:1714068767.927701      74 graph_launch.cc:671] Fallback to op-by-op mode because memset node breaks graph update\n"
     ]
    },
    {
     "name": "stdout",
     "output_type": "stream",
     "text": [
      "\u001b[1m515/515\u001b[0m \u001b[32m━━━━━━━━━━━━━━━━━━━━\u001b[0m\u001b[37m\u001b[0m \u001b[1m0s\u001b[0m 12ms/step - accuracy: 0.3896 - loss: 1.3833"
     ]
    },
    {
     "name": "stderr",
     "output_type": "stream",
     "text": [
      "W0000 00:00:1714068774.983163      72 graph_launch.cc:671] Fallback to op-by-op mode because memset node breaks graph update\n",
      "W0000 00:00:1714068774.984327      72 graph_launch.cc:671] Fallback to op-by-op mode because memset node breaks graph update\n"
     ]
    },
    {
     "name": "stdout",
     "output_type": "stream",
     "text": [
      "\u001b[1m515/515\u001b[0m \u001b[32m━━━━━━━━━━━━━━━━━━━━\u001b[0m\u001b[37m\u001b[0m \u001b[1m14s\u001b[0m 16ms/step - accuracy: 0.3898 - loss: 1.3830 - val_accuracy: 0.6430 - val_loss: 0.9688\n",
      "Epoch 2/10\n",
      "\u001b[1m515/515\u001b[0m \u001b[32m━━━━━━━━━━━━━━━━━━━━\u001b[0m\u001b[37m\u001b[0m \u001b[1m4s\u001b[0m 8ms/step - accuracy: 0.7202 - loss: 0.7591 - val_accuracy: 0.6718 - val_loss: 0.8688\n",
      "Epoch 3/10\n",
      "\u001b[1m515/515\u001b[0m \u001b[32m━━━━━━━━━━━━━━━━━━━━\u001b[0m\u001b[37m\u001b[0m \u001b[1m4s\u001b[0m 8ms/step - accuracy: 0.8201 - loss: 0.5240 - val_accuracy: 0.6533 - val_loss: 0.9624\n",
      "Epoch 4/10\n",
      "\u001b[1m515/515\u001b[0m \u001b[32m━━━━━━━━━━━━━━━━━━━━\u001b[0m\u001b[37m\u001b[0m \u001b[1m4s\u001b[0m 8ms/step - accuracy: 0.8840 - loss: 0.3569 - val_accuracy: 0.6413 - val_loss: 1.0786\n",
      "Epoch 5/10\n",
      "\u001b[1m515/515\u001b[0m \u001b[32m━━━━━━━━━━━━━━━━━━━━\u001b[0m\u001b[37m\u001b[0m \u001b[1m4s\u001b[0m 8ms/step - accuracy: 0.9245 - loss: 0.2440 - val_accuracy: 0.6316 - val_loss: 1.2803\n"
     ]
    }
   ],
   "source": [
    "early_stopping = EarlyStopping(monitor='val_loss', patience=3, restore_best_weights=True)\n",
    "\n",
    "history = model.fit(\n",
    "    x = x_train,\n",
    "    y = y_train,\n",
    "    batch_size=64,\n",
    "    epochs=10,\n",
    "    validation_data=(x_test,y_test),\n",
    "    callbacks=early_stopping\n",
    ")"
   ]
  },
  {
   "cell_type": "code",
   "execution_count": 30,
   "id": "29b92d47",
   "metadata": {
    "execution": {
     "iopub.execute_input": "2024-04-25T18:13:12.101219Z",
     "iopub.status.busy": "2024-04-25T18:13:12.100813Z",
     "iopub.status.idle": "2024-04-25T18:13:12.532299Z",
     "shell.execute_reply": "2024-04-25T18:13:12.531351Z"
    },
    "papermill": {
     "duration": 0.485499,
     "end_time": "2024-04-25T18:13:12.534527",
     "exception": false,
     "start_time": "2024-04-25T18:13:12.049028",
     "status": "completed"
    },
    "tags": []
   },
   "outputs": [
    {
     "data": {
      "image/png": "[encoded data removed]",
      "text/plain": [
       "<Figure size 640x480 with 1 Axes>"
      ]
     },
     "metadata": {},
     "output_type": "display_data"
    }
   ],
   "source": [
    "sns.lineplot(history.history['accuracy'],label='Training Acc')\n",
    "sns.lineplot(history.history['val_accuracy'],label='Val Acc')\n",
    "plt.show()"
   ]
  },
  {
   "cell_type": "code",
   "execution_count": null,
   "id": "2030bbde",
   "metadata": {
    "papermill": {
     "duration": 0.042476,
     "end_time": "2024-04-25T18:13:12.619650",
     "exception": false,
     "start_time": "2024-04-25T18:13:12.577174",
     "status": "completed"
    },
    "tags": []
   },
   "outputs": [],
   "source": []
  }
 ],
 "metadata": {
  "kaggle": {
   "accelerator": "nvidiaTeslaT4",
   "dataSources": [
    {
     "datasetId": 863934,
     "sourceId": 1472453,
     "sourceType": "datasetVersion"
    }
   ],
   "dockerImageVersionId": 30699,
   "isGpuEnabled": true,
   "isInternetEnabled": true,
   "language": "python",
   "sourceType": "notebook"
  },
  "kernelspec": {
   "display_name": "Python 3",
   "language": "python",
   "name": "python3"
  },
  "language_info": {
   "codemirror_mode": {
    "name": "ipython",
    "version": 3
   },
   "file_extension": ".py",
   "mimetype": "text/x-python",
   "name": "python",
   "nbconvert_exporter": "python",
   "pygments_lexer": "ipython3",
   "version": "3.10.13"
  },
  "papermill": {
   "default_parameters": {},
   "duration": 61.103255,
   "end_time": "2024-04-25T18:13:15.710361",
   "environment_variables": {},
   "exception": null,
   "input_path": "__notebook__.ipynb",
   "output_path": "__notebook__.ipynb",
   "parameters": {},
   "start_time": "2024-04-25T18:12:14.607106",
   "version": "2.5.0"
  }
 },
 "nbformat": 4,
 "nbformat_minor": 5
}
