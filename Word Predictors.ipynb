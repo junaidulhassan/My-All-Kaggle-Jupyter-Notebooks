{
 "cells": [
  {
   "cell_type": "code",
   "execution_count": 1,
   "id": "892f90a9",
   "metadata": {},
   "outputs": [
    {
     "name": "stderr",
     "output_type": "stream",
     "text": [
      "2023-12-06 10:23:27.816925: I tensorflow/tsl/cuda/cudart_stub.cc:28] Could not find cuda drivers on your machine, GPU will not be used.\n",
      "2023-12-06 10:23:28.609570: I tensorflow/tsl/cuda/cudart_stub.cc:28] Could not find cuda drivers on your machine, GPU will not be used.\n",
      "2023-12-06 10:23:30.398428: W tensorflow/compiler/tf2tensorrt/utils/py_utils.cc:38] TF-TRT Warning: Could not find TensorRT\n"
     ]
    }
   ],
   "source": [
    "import pandas as pd\n",
    "import numpy as np\n",
    "from keras.preprocessing.text import Tokenizer\n",
    "from keras.utils import pad_sequences\n",
    "from keras.utils import to_categorical\n",
    "import tensorflow as tf\n",
    "from keras import Sequential\n",
    "from keras.layers import Dense,LSTM,Embedding,Dropout\n",
    "import seaborn as sns"
   ]
  },
  {
   "cell_type": "code",
   "execution_count": 11,
   "id": "4098fcba",
   "metadata": {},
   "outputs": [],
   "source": [
    "with open('TextDataset/urdu_text.txt') as file:\n",
    "    data = file.readlines()"
   ]
  },
  {
   "cell_type": "code",
   "execution_count": 12,
   "id": "db13e41a",
   "metadata": {},
   "outputs": [],
   "source": [
    "token = Tokenizer()"
   ]
  },
  {
   "cell_type": "code",
   "execution_count": 13,
   "id": "4d769216",
   "metadata": {},
   "outputs": [],
   "source": [
    "token.fit_on_texts(data)"
   ]
  },
  {
   "cell_type": "code",
   "execution_count": 14,
   "id": "04002b31",
   "metadata": {
    "scrolled": true
   },
   "outputs": [
    {
     "data": {
      "text/plain": [
       "709"
      ]
     },
     "execution_count": 14,
     "metadata": {},
     "output_type": "execute_result"
    }
   ],
   "source": [
    "len(token.word_counts)"
   ]
  },
  {
   "cell_type": "code",
   "execution_count": 15,
   "id": "fd87948d",
   "metadata": {},
   "outputs": [],
   "source": [
    "seq = token.texts_to_sequences(data)"
   ]
  },
  {
   "cell_type": "code",
   "execution_count": 16,
   "id": "3eb7d87d",
   "metadata": {
    "scrolled": false
   },
   "outputs": [],
   "source": [
    "pad_seq = pad_sequences(seq,padding='post')"
   ]
  },
  {
   "cell_type": "code",
   "execution_count": 17,
   "id": "005387f9",
   "metadata": {},
   "outputs": [
    {
     "data": {
      "text/plain": [
       "array([[  7,  13, 333, ...,   0,   0,   0],\n",
       "       [143,  20, 334, ...,   0,   0,   0],\n",
       "       [ 58, 101,  67, ...,   0,   0,   0],\n",
       "       ...,\n",
       "       [  2,   6,   1, ...,  29,   0,   0],\n",
       "       [  3,   9,  15, ...,   0,   0,   0],\n",
       "       [  7,   3, 707, ...,   0,   0,   0]], dtype=int32)"
      ]
     },
     "execution_count": 17,
     "metadata": {},
     "output_type": "execute_result"
    }
   ],
   "source": [
    "pad_seq"
   ]
  },
  {
   "cell_type": "code",
   "execution_count": 18,
   "id": "dd78f81a",
   "metadata": {},
   "outputs": [
    {
     "data": {
      "text/plain": [
       "(318, 12)"
      ]
     },
     "execution_count": 18,
     "metadata": {},
     "output_type": "execute_result"
    }
   ],
   "source": [
    "pad_seq.shape"
   ]
  },
  {
   "cell_type": "code",
   "execution_count": 19,
   "id": "1c53a990",
   "metadata": {},
   "outputs": [],
   "source": [
    "input_seq = []"
   ]
  },
  {
   "cell_type": "code",
   "execution_count": 20,
   "id": "e830d745",
   "metadata": {},
   "outputs": [],
   "source": [
    "for i in seq:\n",
    "    for j in range(1,(len(i))):\n",
    "        input_seq.append(i[:j+1])"
   ]
  },
  {
   "cell_type": "code",
   "execution_count": 21,
   "id": "e5b252c1",
   "metadata": {
    "scrolled": false
   },
   "outputs": [
    {
     "data": {
      "text/plain": [
       "2463"
      ]
     },
     "execution_count": 21,
     "metadata": {},
     "output_type": "execute_result"
    }
   ],
   "source": [
    "len(input_seq)"
   ]
  },
  {
   "cell_type": "code",
   "execution_count": 22,
   "id": "01b5bdee",
   "metadata": {},
   "outputs": [],
   "source": [
    "pad_seq = pad_sequences(input_seq,padding='pre')"
   ]
  },
  {
   "cell_type": "code",
   "execution_count": 23,
   "id": "caed5be7",
   "metadata": {},
   "outputs": [
    {
     "data": {
      "text/plain": [
       "(2463, 12)"
      ]
     },
     "execution_count": 23,
     "metadata": {},
     "output_type": "execute_result"
    }
   ],
   "source": [
    "pad_seq.shape"
   ]
  },
  {
   "cell_type": "code",
   "execution_count": 24,
   "id": "42debd23",
   "metadata": {},
   "outputs": [
    {
     "data": {
      "text/plain": [
       "array([[  0,   0,   0, ...,   0,   7,  13],\n",
       "       [  0,   0,   0, ...,   7,  13, 333],\n",
       "       [  0,   0,   0, ...,  13, 333,  31],\n",
       "       ...,\n",
       "       [  0,   0,   0, ...,   5, 182, 709],\n",
       "       [  0,   0,   0, ..., 182, 709,  11],\n",
       "       [  0,   0,   0, ..., 709,  11,   2]], dtype=int32)"
      ]
     },
     "execution_count": 24,
     "metadata": {},
     "output_type": "execute_result"
    }
   ],
   "source": [
    "pad_seq"
   ]
  },
  {
   "cell_type": "code",
   "execution_count": 25,
   "id": "58bccc40",
   "metadata": {},
   "outputs": [],
   "source": [
    "X = pad_seq[:,:-1]\n",
    "Y = pad_seq[:,-1]"
   ]
  },
  {
   "cell_type": "code",
   "execution_count": 26,
   "id": "1d85ed49",
   "metadata": {},
   "outputs": [
    {
     "data": {
      "text/plain": [
       "((2463,), (2463, 11))"
      ]
     },
     "execution_count": 26,
     "metadata": {},
     "output_type": "execute_result"
    }
   ],
   "source": [
    "Y.shape,X.shape"
   ]
  },
  {
   "cell_type": "code",
   "execution_count": 27,
   "id": "70e382ea",
   "metadata": {},
   "outputs": [],
   "source": [
    "Y = to_categorical(Y,num_classes=len(token.word_counts)+1)"
   ]
  },
  {
   "cell_type": "code",
   "execution_count": 28,
   "id": "af844ee0",
   "metadata": {},
   "outputs": [
    {
     "data": {
      "text/plain": [
       "(2463, 710)"
      ]
     },
     "execution_count": 28,
     "metadata": {},
     "output_type": "execute_result"
    }
   ],
   "source": [
    "Y.shape"
   ]
  },
  {
   "cell_type": "markdown",
   "id": "a5d4cf81",
   "metadata": {},
   "source": [
    "### LSTM Architecture "
   ]
  },
  {
   "cell_type": "code",
   "execution_count": 33,
   "id": "11e2ed58",
   "metadata": {},
   "outputs": [
    {
     "name": "stdout",
     "output_type": "stream",
     "text": [
      "Model: \"sequential_2\"\n",
      "_________________________________________________________________\n",
      " Layer (type)                Output Shape              Param #   \n",
      "=================================================================\n",
      " embedding_2 (Embedding)     (None, 11, 100)           71000     \n",
      "                                                                 \n",
      " lstm_2 (LSTM)               (None, 250)               351000    \n",
      "                                                                 \n",
      " dense_2 (Dense)             (None, 710)               178210    \n",
      "                                                                 \n",
      "=================================================================\n",
      "Total params: 600210 (2.29 MB)\n",
      "Trainable params: 600210 (2.29 MB)\n",
      "Non-trainable params: 0 (0.00 Byte)\n",
      "_________________________________________________________________\n"
     ]
    }
   ],
   "source": [
    "model = Sequential()\n",
    "model.add(Embedding(input_dim=710,output_dim=100,input_length=11))\n",
    "model.add(LSTM(units=250))\n",
    "model.add(Dense(units=710,activation='softmax'))\n",
    "model.compile(optimizer='adam',loss='categorical_crossentropy',metrics=['Acc'])\n",
    "model.summary()"
   ]
  },
  {
   "cell_type": "code",
   "execution_count": 37,
   "id": "9bb33950",
   "metadata": {},
   "outputs": [
    {
     "name": "stdout",
     "output_type": "stream",
     "text": [
      "Epoch 1/5\n",
      "247/247 [==============================] - 6s 26ms/step - loss: 0.4997 - Acc: 0.8404\n",
      "Epoch 2/5\n",
      "247/247 [==============================] - 6s 25ms/step - loss: 0.4887 - Acc: 0.8404\n",
      "Epoch 3/5\n",
      "247/247 [==============================] - 6s 24ms/step - loss: 0.4715 - Acc: 0.8453\n",
      "Epoch 4/5\n",
      "247/247 [==============================] - 6s 24ms/step - loss: 0.4640 - Acc: 0.8429\n",
      "Epoch 5/5\n",
      "247/247 [==============================] - 6s 24ms/step - loss: 0.4569 - Acc: 0.8457\n"
     ]
    }
   ],
   "source": [
    "hist = model.fit(X,Y,batch_size=10,epochs=5)"
   ]
  },
  {
   "cell_type": "code",
   "execution_count": 38,
   "id": "bb36754f",
   "metadata": {},
   "outputs": [
    {
     "data": {
      "text/plain": [
       "<Axes: >"
      ]
     },
     "execution_count": 38,
     "metadata": {},
     "output_type": "execute_result"
    },
    {
     "data": {
      "image/png": "[encoded data removed]",
      "text/plain": [
       "<Figure size 640x480 with 1 Axes>"
      ]
     },
     "metadata": {},
     "output_type": "display_data"
    }
   ],
   "source": [
    "sns.lineplot(hist.history['Acc'])"
   ]
  },
  {
   "cell_type": "code",
   "execution_count": 39,
   "id": "f712e8ce",
   "metadata": {},
   "outputs": [
    {
     "data": {
      "text/plain": [
       "<Axes: >"
      ]
     },
     "execution_count": 39,
     "metadata": {},
     "output_type": "execute_result"
    },
    {
     "data": {
      "image/png": "[encoded data removed]",
      "text/plain": [
       "<Figure size 640x480 with 1 Axes>"
      ]
     },
     "metadata": {},
     "output_type": "display_data"
    }
   ],
   "source": [
    "sns.lineplot(hist.history['loss'],color='r')"
   ]
  },
  {
   "cell_type": "code",
   "execution_count": 45,
   "id": "9881eba0",
   "metadata": {
    "scrolled": false
   },
   "outputs": [
    {
     "name": "stdout",
     "output_type": "stream",
     "text": [
      "gando saath\n",
      "gando saath collaboration\n",
      "gando saath collaboration ka\n",
      "gando saath collaboration ka impossible\n",
      "gando saath collaboration ka impossible mein\n"
     ]
    }
   ],
   "source": [
    "text = \"gando\"\n",
    "for i in range(5):\n",
    "    token_text = token.texts_to_sequences([text])[0]\n",
    "    padded_text = pad_sequences([token_text],maxlen=11,padding='pre')\n",
    "    pos = np.argsort(model.predict(padded_text,verbose=False))\n",
    "    top_pos = pos[0][-2]\n",
    "    for word,index in token.word_index.items():\n",
    "        if index==top_pos:\n",
    "            text = text+\" \"+word\n",
    "            print(text)"
   ]
  },
  {
   "cell_type": "code",
   "execution_count": null,
   "id": "83bf7466",
   "metadata": {},
   "outputs": [],
   "source": []
  }
 ],
 "metadata": {
  "kernelspec": {
   "display_name": "Python 3 (ipykernel)",
   "language": "python",
   "name": "python3"
  },
  "language_info": {
   "codemirror_mode": {
    "name": "ipython",
    "version": 3
   },
   "file_extension": ".py",
   "mimetype": "text/x-python",
   "name": "python",
   "nbconvert_exporter": "python",
   "pygments_lexer": "ipython3",
   "version": "3.10.9"
  }
 },
 "nbformat": 4,
 "nbformat_minor": 5
}
